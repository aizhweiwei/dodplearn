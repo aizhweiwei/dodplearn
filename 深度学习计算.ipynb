{
 "cells": [
  {
   "cell_type": "code",
   "execution_count": 22,
   "id": "8d51ffad",
   "metadata": {},
   "outputs": [],
   "source": [
    "import torch\n",
    "from torch import nn\n",
    "from torch.nn import functional as F"
   ]
  },
  {
   "cell_type": "code",
   "execution_count": 23,
   "id": "0b134bb6",
   "metadata": {},
   "outputs": [
    {
     "data": {
      "text/plain": [
       "torch.Size([100, 10])"
      ]
     },
     "execution_count": 23,
     "metadata": {},
     "output_type": "execute_result"
    }
   ],
   "source": [
    "net = nn.Sequential(nn.Linear(20,256),nn.ReLU(),nn.Linear(256,10))\n",
    "x = torch.rand(100,20)\n",
    "net(x).shape"
   ]
  },
  {
   "cell_type": "code",
   "execution_count": 24,
   "id": "cd2f5cf8",
   "metadata": {},
   "outputs": [],
   "source": [
    "class MLP(nn.Module):\n",
    "    \n",
    "    def __init__(self):\n",
    "        super().__init__()\n",
    "        self.hidden = nn.Linear(20,256)\n",
    "        self.out = nn.Linear(256,10)\n",
    "        \n",
    "    def forward(self,x):\n",
    "        return self.out(F.relu(self.hidden(x)))"
   ]
  },
  {
   "cell_type": "code",
   "execution_count": 25,
   "id": "84891c3d",
   "metadata": {},
   "outputs": [
    {
     "data": {
      "text/plain": [
       "torch.Size([100, 10])"
      ]
     },
     "execution_count": 25,
     "metadata": {},
     "output_type": "execute_result"
    }
   ],
   "source": [
    "m = MLP()\n",
    "m(x).shape"
   ]
  },
  {
   "cell_type": "code",
   "execution_count": 26,
   "id": "c0dbe167",
   "metadata": {},
   "outputs": [],
   "source": [
    "class FixedHiddenMLP(nn.Module):\n",
    "    \n",
    "    def __init__(self):\n",
    "        super().__init__()\n",
    "        \n",
    "        self.rand_weight = torch.rand((20,20),requires_grad= False)\n",
    "        self.linear = nn.Linear(20,20)\n",
    "    \n",
    "    def forward(self,x):\n",
    "        \n",
    "        X = self.linear(x)\n",
    "        X = F.relu(torch.mm(self,rand_weight,X)+1)\n",
    "        X= self.linear(X)"
   ]
  },
  {
   "cell_type": "code",
   "execution_count": 33,
   "id": "2b5e7317",
   "metadata": {},
   "outputs": [],
   "source": [
    "class MySequential(nn.Module):\n",
    "    \n",
    "    def __init__(self,*args):\n",
    "        super().__init__()\n",
    "        for inx,module in enumerate(args):\n",
    "            self._modules[str(inx)] = module\n",
    "            \n",
    "    def forward(self,X):\n",
    "        \n",
    "        for block in self._modules.values():\n",
    "            X = block(X)\n",
    "        return X \n",
    "        "
   ]
  },
  {
   "cell_type": "code",
   "execution_count": 34,
   "id": "94bb576d",
   "metadata": {},
   "outputs": [
    {
     "data": {
      "text/plain": [
       "torch.Size([100, 10])"
      ]
     },
     "execution_count": 34,
     "metadata": {},
     "output_type": "execute_result"
    }
   ],
   "source": [
    "net = MySequential(nn.Linear(20,256),nn.ReLU(),nn.Linear(256,10))\n",
    "x = torch.rand(100,20)\n",
    "net(x).shape"
   ]
  },
  {
   "cell_type": "code",
   "execution_count": 39,
   "id": "aeff63a4",
   "metadata": {},
   "outputs": [
    {
     "name": "stderr",
     "output_type": "stream",
     "text": [
      "/tmp/ipykernel_3445294/1157654201.py:3: UserWarning: nn.init.normal is now deprecated in favor of nn.init.normal_.\n",
      "  nn.init.normal(m.weight,mean = 0,std =0.01)\n"
     ]
    },
    {
     "data": {
      "text/plain": [
       "MySequential(\n",
       "  (0): Linear(in_features=20, out_features=256, bias=True)\n",
       "  (1): ReLU()\n",
       "  (2): Linear(in_features=256, out_features=10, bias=True)\n",
       ")"
      ]
     },
     "execution_count": 39,
     "metadata": {},
     "output_type": "execute_result"
    }
   ],
   "source": [
    "def init_normal(m):\n",
    "    if type(m) == nn.Linear:\n",
    "        nn.init.normal(m.weight,mean = 0,std =0.01)\n",
    "        nn.init.zeros_(m.bias)\n",
    "        \n",
    "net.apply(init_normal)\n"
   ]
  },
  {
   "cell_type": "code",
   "execution_count": 47,
   "id": "1c9f3e00",
   "metadata": {},
   "outputs": [
    {
     "name": "stdout",
     "output_type": "stream",
     "text": [
      "tensor([False, False, False, False, False, False, False, False])\n",
      "tensor([False, False, False, False, False, False, False, False])\n"
     ]
    }
   ],
   "source": [
    "# 我们需要给共享层一个名称，以便可以引用它的参数\n",
    "shared = nn.Linear(8, 8)\n",
    "net = nn.Sequential(nn.Linear(4, 8), nn.ReLU(),\n",
    "                    shared, nn.ReLU(),\n",
    "                    nn.Linear(8,16),nn.ReLU(),\n",
    "                    nn.Linear(16,8),nn.ReLU(),\n",
    "                    shared, nn.ReLU(),\n",
    "                    nn.Linear(8, 1))\n",
    "\n",
    "X = torch.rand(10,4)\n",
    "net(X)\n",
    "# 检查参数是否相同\n",
    "print(net[2].weight.data[0] == net[4].weight.data[0])\n",
    "net[2].weight.data[0, 0] = 100\n",
    "# 确保它们实际上是同一个对象，而不只是有相同的值\n",
    "print(net[2].weight.data[0] == net[4].weight.data[0])"
   ]
  },
  {
   "cell_type": "code",
   "execution_count": 48,
   "id": "d0cc5cf8",
   "metadata": {},
   "outputs": [
    {
     "name": "stdout",
     "output_type": "stream",
     "text": [
      "torch.Size([8, 4])\n",
      "torch.Size([8])\n",
      "torch.Size([8, 8])\n",
      "torch.Size([8])\n",
      "torch.Size([16, 8])\n",
      "torch.Size([16])\n",
      "torch.Size([8, 16])\n",
      "torch.Size([8])\n",
      "torch.Size([1, 8])\n",
      "torch.Size([1])\n"
     ]
    }
   ],
   "source": [
    "for i in net.parameters():\n",
    "    print(i.shape)"
   ]
  },
  {
   "cell_type": "code",
   "execution_count": 50,
   "id": "4fd7ed74",
   "metadata": {},
   "outputs": [
    {
     "data": {
      "text/plain": [
       "2"
      ]
     },
     "execution_count": 50,
     "metadata": {},
     "output_type": "execute_result"
    }
   ],
   "source": [
    "torch.cuda.device_count()"
   ]
  },
  {
   "cell_type": "code",
   "execution_count": 51,
   "id": "877d16de",
   "metadata": {},
   "outputs": [],
   "source": [
    "def try_gpu(i=0):  #@save\n",
    "    \"\"\"如果存在，则返回gpu(i)，否则返回cpu()\"\"\"\n",
    "    if torch.cuda.device_count() >= i + 1:\n",
    "        return torch.device(f'cuda:{i}')\n",
    "    return torch.device('cpu')"
   ]
  },
  {
   "cell_type": "code",
   "execution_count": 52,
   "id": "aedcdb99",
   "metadata": {},
   "outputs": [],
   "source": [
    "X = torch.ones(2, 3, device=try_gpu())\n",
    "Y = torch.rand(2, 3, device=try_gpu(1))"
   ]
  },
  {
   "cell_type": "code",
   "execution_count": 53,
   "id": "0e0b9a5b",
   "metadata": {},
   "outputs": [
    {
     "ename": "RuntimeError",
     "evalue": "Expected all tensors to be on the same device, but found at least two devices, cuda:0 and cuda:1!",
     "output_type": "error",
     "traceback": [
      "\u001b[0;31m---------------------------------------------------------------------------\u001b[0m",
      "\u001b[0;31mRuntimeError\u001b[0m                              Traceback (most recent call last)",
      "Cell \u001b[0;32mIn[53], line 1\u001b[0m\n\u001b[0;32m----> 1\u001b[0m \u001b[43mX\u001b[49m\u001b[38;5;241;43m+\u001b[39;49m\u001b[43mY\u001b[49m\n",
      "\u001b[0;31mRuntimeError\u001b[0m: Expected all tensors to be on the same device, but found at least two devices, cuda:0 and cuda:1!"
     ]
    }
   ],
   "source": [
    "X+Y"
   ]
  },
  {
   "cell_type": "code",
   "execution_count": 9,
   "id": "517f01a2",
   "metadata": {},
   "outputs": [],
   "source": [
    "import torch\n",
    "from torch import nn\n",
    "\n",
    "def synthetic(w,b,nums):\n",
    "    X = torch.rand((nums,len(w)))\n",
    "    Y = torch.matmul(X,w) +b\n",
    "    Y += torch.rand(Y.shape)\n",
    "    return X,Y.reshape((-1,1))"
   ]
  },
  {
   "cell_type": "code",
   "execution_count": 12,
   "id": "44c6c811",
   "metadata": {},
   "outputs": [],
   "source": [
    "w = torch.tensor([1.,2])\n",
    "b = 4\n"
   ]
  },
  {
   "cell_type": "code",
   "execution_count": 24,
   "id": "fa8199cd",
   "metadata": {},
   "outputs": [],
   "source": [
    "X,Y = synthetic(w,b,200)"
   ]
  },
  {
   "cell_type": "code",
   "execution_count": 25,
   "id": "805da39a",
   "metadata": {},
   "outputs": [],
   "source": [
    "L = nn.Linear(4,4)\n",
    "net = nn.Sequential(nn.Linear(2,4),nn.ReLU(),\n",
    "                     L,nn.ReLU(),\n",
    "                     nn.Linear(4,4),nn.ReLU(),\n",
    "                     L,nn.ReLU(),\n",
    "                     nn.Linear(4,1))\n"
   ]
  },
  {
   "cell_type": "code",
   "execution_count": 33,
   "id": "2b9f792e",
   "metadata": {},
   "outputs": [],
   "source": [
    "def printweight(model):\n",
    "    for name,param in model.named_parameters():\n",
    "        print(name,param)\n",
    "def printgrad(model):\n",
    "    for name,param in model.named_parameters():\n",
    "        print(name,param.grad)"
   ]
  },
  {
   "cell_type": "code",
   "execution_count": 37,
   "id": "df6f0a4f",
   "metadata": {
    "scrolled": false
   },
   "outputs": [
    {
     "name": "stdout",
     "output_type": "stream",
     "text": [
      "begin print weight\n",
      "begin print grad\n",
      "0.weight tensor([[ 0.1319,  0.1770],\n",
      "        [-1.2571, -1.2123],\n",
      "        [ 0.0000,  0.0000],\n",
      "        [-0.7364, -0.7102]])\n",
      "0.bias tensor([ 0.2104, -2.3789,  0.0000, -1.3935])\n",
      "2.weight tensor([[-2.8477e-02, -5.0797e+00, -2.7767e+00, -3.1955e+00],\n",
      "        [-3.2912e-02, -5.5093e+00, -2.8450e+00, -3.4711e+00],\n",
      "        [-1.2956e-03, -5.4798e+00, -5.4134e+00, -3.3694e+00],\n",
      "        [ 0.0000e+00,  0.0000e+00,  0.0000e+00,  0.0000e+00]])\n",
      "2.bias tensor([-5.7666, -6.2211, -6.7025,  0.0000])\n",
      "4.weight tensor([[ 0.0000,  0.0000,  0.0000,  0.0000],\n",
      "        [-1.6684, -1.3308, -2.1472,  0.0000],\n",
      "        [-2.1362, -1.7039, -2.7493,  0.0000],\n",
      "        [-2.9764, -2.3742, -3.8307,  0.0000]])\n",
      "4.bias tensor([ 0.0000, -2.5772, -3.2998, -4.5977])\n",
      "8.weight tensor([[-5.2081, -3.2507, -9.1244,  0.0000]])\n",
      "8.bias tensor([-7.9558])\n",
      "\n",
      "\n",
      "\n",
      "begin print weight\n",
      "begin print grad\n",
      "0.weight tensor([[ 0.2503,  0.3240],\n",
      "        [-1.6794, -1.6749],\n",
      "        [ 0.0000,  0.0000],\n",
      "        [-1.0871, -1.0842]])\n",
      "0.bias tensor([ 0.3730, -3.0143,  0.0000, -1.9512])\n",
      "2.weight tensor([[-0.0598, -6.0410, -3.1647, -3.8121],\n",
      "        [-0.0645, -6.2129, -3.1042, -3.9137],\n",
      "        [-0.0123, -6.5647, -6.1017, -4.2641],\n",
      "        [ 0.0000,  0.0000,  0.0000,  0.0000]])\n",
      "2.bias tensor([-5.8480, -6.0085, -6.4579,  0.0000])\n",
      "4.weight tensor([[ 0.0000,  0.0000,  0.0000,  0.0000],\n",
      "        [-2.4202, -2.0232, -2.8602,  0.0000],\n",
      "        [-2.8383, -2.3727, -3.3543,  0.0000],\n",
      "        [-3.6849, -3.0804, -4.3548,  0.0000]])\n",
      "4.bias tensor([ 0.0000, -2.9306, -3.4368, -4.4620])\n",
      "8.weight tensor([[-6.2582, -4.5522, -9.5369,  0.0000]])\n",
      "8.bias tensor([-6.3939])\n",
      "\n",
      "\n",
      "\n",
      "epoch=0,loss=4.1455841064453125\n",
      "begin print weight\n",
      "begin print grad\n",
      "0.weight tensor([[ 0.2186,  0.2787],\n",
      "        [-1.6315, -1.7285],\n",
      "        [ 0.0000,  0.0000],\n",
      "        [-1.1242, -1.1910]])\n",
      "0.bias tensor([ 0.3300, -3.0170,  0.0000, -2.0788])\n",
      "2.weight tensor([[-0.0370, -5.4736, -2.7582, -3.4834],\n",
      "        [-0.0376, -5.3884, -2.6245, -3.4202],\n",
      "        [-0.0124, -5.9690, -5.1887, -4.0152],\n",
      "        [ 0.0000,  0.0000,  0.0000,  0.0000]])\n",
      "2.bias tensor([-4.6399, -4.5776, -4.8226,  0.0000])\n",
      "4.weight tensor([[ 0.0000,  0.0000,  0.0000,  0.0000],\n",
      "        [-2.5640, -2.1913, -2.8834,  0.0000],\n",
      "        [-2.7449, -2.3459, -3.0868,  0.0000],\n",
      "        [-3.3966, -2.9029, -3.8198,  0.0000]])\n",
      "4.bias tensor([ 0.0000, -2.5231, -2.7011, -3.3424])\n",
      "8.weight tensor([[-5.5774, -4.4028, -7.7208,  0.0000]])\n",
      "8.bias tensor([-3.9131])\n",
      "\n",
      "\n",
      "\n",
      "begin print weight\n",
      "begin print grad\n",
      "0.weight tensor([[ 0.1093,  0.1452],\n",
      "        [-0.6064, -0.8691],\n",
      "        [ 0.0000,  0.0000],\n",
      "        [-0.4312, -0.6179]])\n",
      "0.bias tensor([ 0.1629, -1.1305,  0.0000, -0.8038])\n",
      "2.weight tensor([[-0.0236, -2.0222, -0.9286, -1.1312],\n",
      "        [-0.0230, -1.9392, -0.8694, -1.0789],\n",
      "        [-0.0099, -2.1332, -1.7036, -1.3978],\n",
      "        [ 0.0000,  0.0000,  0.0000,  0.0000]])\n",
      "2.bias tensor([-1.4464, -1.3897, -1.4343,  0.0000])\n",
      "4.weight tensor([[ 0.0000,  0.0000,  0.0000,  0.0000],\n",
      "        [-1.0392, -0.8503, -1.0197,  0.0000],\n",
      "        [-1.0379, -0.8492, -1.0183,  0.0000],\n",
      "        [-1.2541, -1.0261, -1.2306,  0.0000]])\n",
      "4.bias tensor([ 0.0000, -0.8184, -0.8174, -0.9877])\n",
      "8.weight tensor([[-1.9043, -1.5694, -2.4783,  0.0000]])\n",
      "8.bias tensor([-0.9805])\n",
      "\n",
      "\n",
      "\n",
      "epoch=1,loss=0.3244672119617462\n",
      "begin print weight\n",
      "begin print grad\n",
      "0.weight tensor([[ 0.0448,  0.0526],\n",
      "        [ 0.1177, -0.1898],\n",
      "        [ 0.0000,  0.0000],\n",
      "        [ 0.0839, -0.1352]])\n",
      "0.bias tensor([0.0590, 0.1952, 0.0000, 0.1391])\n",
      "2.weight tensor([[-0.0090,  0.1485,  0.1480,  0.3350],\n",
      "        [-0.0087,  0.1390,  0.1381,  0.3203],\n",
      "        [-0.0040,  0.2498,  0.2691,  0.2692],\n",
      "        [ 0.0000,  0.0000,  0.0000,  0.0000]])\n",
      "2.bias tensor([0.2351, 0.2239, 0.2293, 0.0000])\n",
      "4.weight tensor([[0.0000, 0.0000, 0.0000, 0.0000],\n",
      "        [0.0822, 0.1469, 0.2462, 0.0000],\n",
      "        [0.0801, 0.1431, 0.2399, 0.0000],\n",
      "        [0.0962, 0.1719, 0.2882, 0.0000]])\n",
      "4.bias tensor([0.0000, 0.1343, 0.1308, 0.1572])\n",
      "8.weight tensor([[0.2854, 0.2293, 0.3769, 0.0000]])\n",
      "8.bias tensor([0.1480])\n",
      "\n",
      "\n",
      "\n",
      "begin print weight\n",
      "begin print grad\n",
      "0.weight tensor([[ 0.0562,  0.0946],\n",
      "        [ 0.0452, -0.3962],\n",
      "        [ 0.0000,  0.0000],\n",
      "        [ 0.0320, -0.2799]])\n",
      "0.bias tensor([ 0.1042, -0.0020,  0.0000, -0.0014])\n",
      "2.weight tensor([[-0.0131, -0.2098, -0.0016,  0.1850],\n",
      "        [-0.0126, -0.2014, -0.0015,  0.1786],\n",
      "        [-0.0057, -0.1124, -0.0029,  0.0499],\n",
      "        [ 0.0000,  0.0000,  0.0000,  0.0000]])\n",
      "2.bias tensor([-0.0025, -0.0024, -0.0024,  0.0000])\n",
      "4.weight tensor([[ 0.0000,  0.0000,  0.0000,  0.0000],\n",
      "        [-0.1058,  0.0101,  0.0903,  0.0000],\n",
      "        [-0.1031,  0.0099,  0.0880,  0.0000],\n",
      "        [-0.1237,  0.0118,  0.1056,  0.0000]])\n",
      "4.bias tensor([ 0.0000, -0.0014, -0.0014, -0.0017])\n",
      "8.weight tensor([[-0.0276, -0.0328, -0.0259,  0.0000]])\n",
      "8.bias tensor([-0.0016])\n",
      "\n",
      "\n",
      "\n",
      "epoch=2,loss=0.31213727593421936\n",
      "begin print weight\n",
      "begin print grad\n",
      "0.weight tensor([[ 0.0383,  0.0445],\n",
      "        [ 0.0702, -0.2770],\n",
      "        [ 0.0000,  0.0000],\n",
      "        [ 0.0491, -0.1938]])\n",
      "0.bias tensor([0.0518, 0.0869, 0.0000, 0.0608])\n",
      "2.weight tensor([[-0.0055, -0.0404,  0.0631,  0.2354],\n",
      "        [-0.0052, -0.0398,  0.0589,  0.2246],\n",
      "        [-0.0024,  0.0517,  0.1148,  0.1392],\n",
      "        [ 0.0000,  0.0000,  0.0000,  0.0000]])\n",
      "2.bias tensor([0.1051, 0.0996, 0.1021, 0.0000])\n",
      "4.weight tensor([[ 0.0000,  0.0000,  0.0000,  0.0000],\n",
      "        [-0.0199,  0.0677,  0.1525,  0.0000],\n",
      "        [-0.0193,  0.0658,  0.1480,  0.0000],\n",
      "        [-0.0231,  0.0787,  0.1771,  0.0000]])\n",
      "4.bias tensor([0.0000, 0.0601, 0.0583, 0.0698])\n",
      "8.weight tensor([[0.1095, 0.0826, 0.1524, 0.0000]])\n",
      "8.bias tensor([0.0666])\n",
      "\n",
      "\n",
      "\n",
      "begin print weight\n",
      "begin print grad\n",
      "0.weight tensor([[ 0.0734,  0.1140],\n",
      "        [-0.0666, -0.4339],\n",
      "        [ 0.0000,  0.0000],\n",
      "        [-0.0462, -0.3009]])\n",
      "0.bias tensor([ 0.1244, -0.1662,  0.0000, -0.1152])\n",
      "2.weight tensor([[-0.0169, -0.4613, -0.1362, -0.0290],\n",
      "        [-0.0161, -0.4371, -0.1272, -0.0255],\n",
      "        [-0.0073, -0.3971, -0.2480, -0.1684],\n",
      "        [ 0.0000,  0.0000,  0.0000,  0.0000]])\n",
      "2.bias tensor([-0.2013, -0.1904, -0.1950,  0.0000])\n",
      "4.weight tensor([[ 0.0000,  0.0000,  0.0000,  0.0000],\n",
      "        [-0.2399, -0.1259, -0.0832,  0.0000],\n",
      "        [-0.2324, -0.1219, -0.0806,  0.0000],\n",
      "        [-0.2776, -0.1456, -0.0963,  0.0000]])\n",
      "4.bias tensor([ 0.0000, -0.1151, -0.1115, -0.1332])\n",
      "8.weight tensor([[-0.2968, -0.2539, -0.3708,  0.0000]])\n",
      "8.bias tensor([-0.1278])\n",
      "\n",
      "\n",
      "\n",
      "epoch=3,loss=0.3084125816822052\n",
      "begin print weight\n",
      "begin print grad\n",
      "0.weight tensor([[ 0.0556,  0.0742],\n",
      "        [ 0.1624, -0.2508],\n",
      "        [ 0.0000,  0.0000],\n",
      "        [ 0.1118, -0.1727]])\n",
      "0.bias tensor([0.0847, 0.2288, 0.0000, 0.1575])\n",
      "2.weight tensor([[-0.0085,  0.1638,  0.1734,  0.4137],\n",
      "        [-0.0080,  0.1530,  0.1619,  0.3909],\n",
      "        [-0.0036,  0.2861,  0.3152,  0.3174],\n",
      "        [ 0.0000,  0.0000,  0.0000,  0.0000]])\n",
      "2.bias tensor([0.2741, 0.2584, 0.2642, 0.0000])\n",
      "4.weight tensor([[0.0000, 0.0000, 0.0000, 0.0000],\n",
      "        [0.0905, 0.1778, 0.2990, 0.0000],\n",
      "        [0.0871, 0.1711, 0.2877, 0.0000],\n",
      "        [0.1038, 0.2038, 0.3427, 0.0000]])\n",
      "4.bias tensor([0.0000, 0.1572, 0.1512, 0.1802])\n",
      "8.weight tensor([[0.3317, 0.2653, 0.4375, 0.0000]])\n",
      "8.bias tensor([0.1718])\n",
      "\n",
      "\n",
      "\n",
      "begin print weight\n",
      "begin print grad\n",
      "0.weight tensor([[ 0.0478,  0.0746],\n",
      "        [-0.0821, -0.3939],\n",
      "        [ 0.0000,  0.0000],\n",
      "        [-0.0559, -0.2682]])\n",
      "0.bias tensor([ 0.0800, -0.1645,  0.0000, -0.1120])\n",
      "2.weight tensor([[-0.0114, -0.4478, -0.1388, -0.0553],\n",
      "        [-0.0107, -0.4217, -0.1297, -0.0510],\n",
      "        [-0.0048, -0.3910, -0.2527, -0.1788],\n",
      "        [ 0.0000,  0.0000,  0.0000,  0.0000]])\n",
      "2.bias tensor([-0.1987, -0.1870, -0.1914,  0.0000])\n",
      "4.weight tensor([[ 0.0000,  0.0000,  0.0000,  0.0000],\n",
      "        [-0.2366, -0.1327, -0.0954,  0.0000],\n",
      "        [-0.2277, -0.1277, -0.0918,  0.0000],\n",
      "        [-0.2707, -0.1519, -0.1092,  0.0000]])\n",
      "4.bias tensor([ 0.0000, -0.1139, -0.1096, -0.1304])\n",
      "8.weight tensor([[-0.2988, -0.2544, -0.3710,  0.0000]])\n",
      "8.bias tensor([-0.1258])\n",
      "\n",
      "\n",
      "\n",
      "epoch=4,loss=0.3008774518966675\n"
     ]
    }
   ],
   "source": [
    "epochs = 5\n",
    "lr = 1e-2\n",
    "loss = torch.nn.MSELoss()\n",
    "trainer = torch.optim.SGD(net.parameters(),lr)\n",
    "dataset = torch.utils.data.TensorDataset(X,Y)\n",
    "loders = torch.utils.data.DataLoader(dataset,batch_size=100,shuffle=True)\n",
    "for poch in range(epochs):\n",
    "    for x,y in loders:\n",
    "        l = loss(net(x),y)\n",
    "        trainer.zero_grad()\n",
    "        l.backward()\n",
    "        print(\"begin print weight\")\n",
    "#         printweight(net)\n",
    "        print(\"begin print grad\")\n",
    "        printgrad(net)\n",
    "        print(\"\\n\\n\")\n",
    "        trainer.step()\n",
    "    with torch.no_grad():\n",
    "        l = loss(net(X),Y)\n",
    "        print(f\"epoch={poch},loss={l.item()}\")"
   ]
  },
  {
   "cell_type": "code",
   "execution_count": null,
   "id": "3a42c96d",
   "metadata": {},
   "outputs": [],
   "source": []
  }
 ],
 "metadata": {
  "kernelspec": {
   "display_name": "Python 3 (ipykernel)",
   "language": "python",
   "name": "python3"
  },
  "language_info": {
   "codemirror_mode": {
    "name": "ipython",
    "version": 3
   },
   "file_extension": ".py",
   "mimetype": "text/x-python",
   "name": "python",
   "nbconvert_exporter": "python",
   "pygments_lexer": "ipython3",
   "version": "3.9.16"
  }
 },
 "nbformat": 4,
 "nbformat_minor": 5
}
